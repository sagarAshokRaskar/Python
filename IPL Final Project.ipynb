{
 "cells": [
  {
   "cell_type": "code",
   "execution_count": 108,
   "id": "cafee669-4d6b-406e-bf31-9d8acbdc1f34",
   "metadata": {},
   "outputs": [],
   "source": [
    "import pandas as pd"
   ]
  },
  {
   "cell_type": "code",
   "execution_count": 109,
   "id": "33c433f5-6ea7-4a34-8556-f45acdbdf5c4",
   "metadata": {},
   "outputs": [],
   "source": [
    "df=pd.read_csv('Downloads/IPL_Dataset.csv')"
   ]
  },
  {
   "cell_type": "code",
   "execution_count": 110,
   "id": "9c13ac8e-091a-43e4-8065-25cd3b3e0e6b",
   "metadata": {},
   "outputs": [
    {
     "data": {
      "text/html": [
       "<div>\n",
       "<style scoped>\n",
       "    .dataframe tbody tr th:only-of-type {\n",
       "        vertical-align: middle;\n",
       "    }\n",
       "\n",
       "    .dataframe tbody tr th {\n",
       "        vertical-align: top;\n",
       "    }\n",
       "\n",
       "    .dataframe thead th {\n",
       "        text-align: right;\n",
       "    }\n",
       "</style>\n",
       "<table border=\"1\" class=\"dataframe\">\n",
       "  <thead>\n",
       "    <tr style=\"text-align: right;\">\n",
       "      <th></th>\n",
       "      <th>match_id</th>\n",
       "      <th>inning</th>\n",
       "      <th>batting_team</th>\n",
       "      <th>bowling_team</th>\n",
       "      <th>over</th>\n",
       "      <th>ball</th>\n",
       "      <th>batsman</th>\n",
       "      <th>non_striker</th>\n",
       "      <th>bowler</th>\n",
       "      <th>is_super_over</th>\n",
       "      <th>...</th>\n",
       "      <th>bye_runs</th>\n",
       "      <th>legbye_runs</th>\n",
       "      <th>noball_runs</th>\n",
       "      <th>penalty_runs</th>\n",
       "      <th>batsman_runs</th>\n",
       "      <th>extra_runs</th>\n",
       "      <th>total_runs</th>\n",
       "      <th>player_dismissed</th>\n",
       "      <th>dismissal_kind</th>\n",
       "      <th>fielder</th>\n",
       "    </tr>\n",
       "  </thead>\n",
       "  <tbody>\n",
       "    <tr>\n",
       "      <th>0</th>\n",
       "      <td>1</td>\n",
       "      <td>1</td>\n",
       "      <td>Sunrisers Hyderabad</td>\n",
       "      <td>Royal Challengers Bangalore</td>\n",
       "      <td>1</td>\n",
       "      <td>1</td>\n",
       "      <td>DA Warner</td>\n",
       "      <td>S Dhawan</td>\n",
       "      <td>TS Mills</td>\n",
       "      <td>0</td>\n",
       "      <td>...</td>\n",
       "      <td>0</td>\n",
       "      <td>0</td>\n",
       "      <td>0</td>\n",
       "      <td>0</td>\n",
       "      <td>0</td>\n",
       "      <td>0</td>\n",
       "      <td>0</td>\n",
       "      <td>NaN</td>\n",
       "      <td>NaN</td>\n",
       "      <td>NaN</td>\n",
       "    </tr>\n",
       "  </tbody>\n",
       "</table>\n",
       "<p>1 rows × 21 columns</p>\n",
       "</div>"
      ],
      "text/plain": [
       "   match_id  inning         batting_team                 bowling_team  over  \\\n",
       "0         1       1  Sunrisers Hyderabad  Royal Challengers Bangalore     1   \n",
       "\n",
       "   ball    batsman non_striker    bowler  is_super_over  ...  bye_runs  \\\n",
       "0     1  DA Warner    S Dhawan  TS Mills              0  ...         0   \n",
       "\n",
       "   legbye_runs  noball_runs  penalty_runs  batsman_runs  extra_runs  \\\n",
       "0            0            0             0             0           0   \n",
       "\n",
       "   total_runs  player_dismissed dismissal_kind fielder  \n",
       "0           0               NaN            NaN     NaN  \n",
       "\n",
       "[1 rows x 21 columns]"
      ]
     },
     "execution_count": 110,
     "metadata": {},
     "output_type": "execute_result"
    }
   ],
   "source": [
    "df.head(1)"
   ]
  },
  {
   "cell_type": "markdown",
   "id": "e7e5f8c8-b773-4ecf-8a5b-e10946b9ec0c",
   "metadata": {},
   "source": [
    "## 1. What is the total number of runs scored by each batting team?"
   ]
  },
  {
   "cell_type": "code",
   "execution_count": 111,
   "id": "1730f840-0e1d-4e9a-b167-9ddf387ac1b7",
   "metadata": {},
   "outputs": [
    {
     "name": "stdout",
     "output_type": "stream",
     "text": [
      "Total runs scored by each batting team:\n",
      " batting_team\n",
      "Chennai Super Kings            20899\n",
      "Deccan Chargers                11463\n",
      "Delhi Daredevils               21953\n",
      "Gujarat Lions                   4862\n",
      "Kings XI Punjab                23068\n",
      "Kochi Tuskers Kerala            1901\n",
      "Kolkata Knight Riders          21965\n",
      "Mumbai Indians                 24521\n",
      "Pune Warriors                   6358\n",
      "Rajasthan Royals               17703\n",
      "Rising Pune Supergiant          2470\n",
      "Rising Pune Supergiants         2063\n",
      "Royal Challengers Bangalore    23436\n",
      "Sunrisers Hyderabad            11652\n",
      "Name: total_runs, dtype: int64\n"
     ]
    }
   ],
   "source": [
    "total_runs_by_team = df.groupby('batting_team')['total_runs'].sum()\n",
    "print(\"Total runs scored by each batting team:\\n\", total_runs_by_team)"
   ]
  },
  {
   "cell_type": "markdown",
   "id": "96364095-5bda-43db-8ab2-c4e81535feee",
   "metadata": {},
   "source": [
    "## 2. How many wides have been bowled by each bowling team ?"
   ]
  },
  {
   "cell_type": "code",
   "execution_count": 112,
   "id": "aa56b8d4-ddcc-417e-bc9a-5d5040e0db08",
   "metadata": {},
   "outputs": [
    {
     "name": "stdout",
     "output_type": "stream",
     "text": [
      "Number of wides bowled by each bowling team:\n",
      " bowling_team\n",
      "Chennai Super Kings            526\n",
      "Deccan Chargers                328\n",
      "Delhi Daredevils               614\n",
      "Gujarat Lions                  107\n",
      "Kings XI Punjab                668\n",
      "Kochi Tuskers Kerala            56\n",
      "Kolkata Knight Riders          658\n",
      "Mumbai Indians                 786\n",
      "Pune Warriors                  174\n",
      "Rajasthan Royals               586\n",
      "Rising Pune Supergiant          69\n",
      "Rising Pune Supergiants         77\n",
      "Royal Challengers Bangalore    725\n",
      "Sunrisers Hyderabad            268\n",
      "Name: wide_runs, dtype: int64\n"
     ]
    }
   ],
   "source": [
    "total_wides_by_team = df.groupby('bowling_team')['wide_runs'].sum()\n",
    "print(\"Number of wides bowled by each bowling team:\\n\", total_wides_by_team)"
   ]
  },
  {
   "cell_type": "markdown",
   "id": "73ea71cd-59a0-4fd6-a340-ab6db41f73df",
   "metadata": {},
   "source": [
    "## 3. What is the average number of runs scored per inning by each team?"
   ]
  },
  {
   "cell_type": "code",
   "execution_count": 113,
   "id": "289dbc44-1ab0-46ac-ae36-599d4c8601f9",
   "metadata": {},
   "outputs": [
    {
     "name": "stdout",
     "output_type": "stream",
     "text": [
      "Average number of runs scored per inning by each team:\n",
      " batting_team\n",
      "Chennai Super Kings            158.325758\n",
      "Deccan Chargers                152.840000\n",
      "Delhi Daredevils               148.331081\n",
      "Gujarat Lions                  156.838710\n",
      "Kings XI Punjab                153.786667\n",
      "Kochi Tuskers Kerala           135.785714\n",
      "Kolkata Knight Riders          146.433333\n",
      "Mumbai Indians                 155.196203\n",
      "Pune Warriors                  141.288889\n",
      "Rajasthan Royals               147.525000\n",
      "Rising Pune Supergiant         154.375000\n",
      "Rising Pune Supergiants        147.357143\n",
      "Royal Challengers Bangalore    152.181818\n",
      "Sunrisers Hyderabad            151.324675\n",
      "Name: total_runs, dtype: float64\n"
     ]
    }
   ],
   "source": [
    "average_runs_per_inning = df.groupby(['batting_team', 'match_id', 'inning'])['total_runs'].sum().groupby('batting_team').mean()\n",
    "print(\"Average number of runs scored per inning by each team:\\n\", average_runs_per_inning)"
   ]
  },
  {
   "cell_type": "markdown",
   "id": "04c695b5-5a1c-4ba0-9da5-dafa196ac122",
   "metadata": {},
   "source": [
    "## 4. Which batsman has scored the highest number of runs ?"
   ]
  },
  {
   "cell_type": "code",
   "execution_count": 114,
   "id": "3aed3fe0-1cda-4398-bf21-c86088028f66",
   "metadata": {},
   "outputs": [
    {
     "name": "stdout",
     "output_type": "stream",
     "text": [
      "Batsman who has scored the highest number of runs: SK Raina\n"
     ]
    }
   ],
   "source": [
    "highest_scoring_batsman = df.groupby('batsman')['batsman_runs'].sum().idxmax()\n",
    "print(\"Batsman who has scored the highest number of runs:\", highest_scoring_batsman)"
   ]
  },
  {
   "cell_type": "markdown",
   "id": "d5723b1d-d82e-4690-8ea5-28ae85c9349c",
   "metadata": {},
   "source": [
    "## 5. How many dismissals have occurred of each dismissal kind?"
   ]
  },
  {
   "cell_type": "code",
   "execution_count": 115,
   "id": "e640a028-ebb5-4eaa-93a2-f807c54a858d",
   "metadata": {},
   "outputs": [
    {
     "name": "stdout",
     "output_type": "stream",
     "text": [
      "Number of dismissals of each dismissal kind:\n",
      " dismissal_kind\n",
      "caught                   4373\n",
      "bowled                   1382\n",
      "run out                   755\n",
      "lbw                       455\n",
      "stumped                   243\n",
      "caught and bowled         211\n",
      "retired hurt                9\n",
      "hit wicket                  9\n",
      "obstructing the field       1\n",
      "Name: count, dtype: int64\n"
     ]
    }
   ],
   "source": [
    "dismissal_counts = df['dismissal_kind'].value_counts()\n",
    "print(\"Number of dismissals of each dismissal kind:\\n\", dismissal_counts)"
   ]
  },
  {
   "cell_type": "markdown",
   "id": "00fda050-85b2-40b5-aab7-07cd9f362c1f",
   "metadata": {},
   "source": [
    "## 6. What is the total runs scored by each over?"
   ]
  },
  {
   "cell_type": "code",
   "execution_count": 116,
   "id": "93cc2758-6a1c-4804-a660-b15e05e2bfbb",
   "metadata": {},
   "outputs": [
    {
     "name": "stdout",
     "output_type": "stream",
     "text": [
      "Total runs scored by each over:\n",
      " match_id  over\n",
      "1         1       18\n",
      "          2       17\n",
      "          3       22\n",
      "          4       19\n",
      "          5       14\n",
      "                  ..\n",
      "636       16      11\n",
      "          17      19\n",
      "          18      19\n",
      "          19      28\n",
      "          20      33\n",
      "Name: total_runs, Length: 12582, dtype: int64\n"
     ]
    }
   ],
   "source": [
    "total_runs_by_over = df.groupby(['match_id', 'over'])['total_runs'].sum()\n",
    "print(\"Total runs scored by each over:\\n\", total_runs_by_over)"
   ]
  },
  {
   "cell_type": "markdown",
   "id": "d445953f-d401-4801-827b-f22ad3d0a2bd",
   "metadata": {},
   "source": [
    "## 7. Bowler who has taken the most wickets"
   ]
  },
  {
   "cell_type": "code",
   "execution_count": 117,
   "id": "b0e1650c-3d8a-4bc1-bd1d-387c2336dcb7",
   "metadata": {},
   "outputs": [
    {
     "name": "stdout",
     "output_type": "stream",
     "text": [
      "Bowler who has taken the most wickets: SL Malinga\n"
     ]
    }
   ],
   "source": [
    "most_wickets_bowler = df[df['player_dismissed'].notna()]['bowler'].value_counts().idxmax()\n",
    "print(\"Bowler who has taken the most wickets:\", most_wickets_bowler)"
   ]
  },
  {
   "cell_type": "markdown",
   "id": "346f0500-df4a-46b9-b6c3-1b63fdebbf99",
   "metadata": {},
   "source": [
    "## 8. How many super overs have been played in total?"
   ]
  },
  {
   "cell_type": "code",
   "execution_count": 118,
   "id": "c8d5ad97-dae8-40dc-9abf-c640479785e5",
   "metadata": {},
   "outputs": [
    {
     "name": "stdout",
     "output_type": "stream",
     "text": [
      "Number of super overs played in total: 81\n"
     ]
    }
   ],
   "source": [
    "total_super_overs = df['is_super_over'].sum()\n",
    "print(\"Number of super overs played in total:\", total_super_overs)"
   ]
  },
  {
   "cell_type": "markdown",
   "id": "41373c6a-6e38-4a75-aa05-3930e1acdce0",
   "metadata": {},
   "source": [
    "## 9. What is the average number of extras (wide runs, bye runs, legbye runs, noball runs, penalty runs) conceded per inning by each bowling team?"
   ]
  },
  {
   "cell_type": "code",
   "execution_count": 119,
   "id": "d85fe275-1baa-439f-9a33-ff9c58b87386",
   "metadata": {},
   "outputs": [
    {
     "name": "stdout",
     "output_type": "stream",
     "text": [
      "Average number of extras conceded per inning by each bowling team:\n",
      " bowling_team\n",
      "Chennai Super Kings            7.590909\n",
      "Deccan Chargers                8.786667\n",
      "Delhi Daredevils               8.074830\n",
      "Gujarat Lions                  6.064516\n",
      "Kings XI Punjab                8.200000\n",
      "Kochi Tuskers Kerala           7.857143\n",
      "Kolkata Knight Riders          8.026667\n",
      "Mumbai Indians                 8.841772\n",
      "Pune Warriors                  7.282609\n",
      "Rajasthan Royals               8.743802\n",
      "Rising Pune Supergiant         6.937500\n",
      "Rising Pune Supergiants        7.714286\n",
      "Royal Challengers Bangalore    8.555556\n",
      "Sunrisers Hyderabad            6.324675\n",
      "Name: extra_runs, dtype: float64\n"
     ]
    }
   ],
   "source": [
    "average_extras_per_inning = df.groupby(['bowling_team', 'match_id', 'inning'])['extra_runs'].sum().groupby('bowling_team').mean()\n",
    "print(\"Average number of extras conceded per inning by each bowling team:\\n\", average_extras_per_inning)"
   ]
  },
  {
   "cell_type": "markdown",
   "id": "c9105fc6-dd1e-49fa-bbed-711aca6614bb",
   "metadata": {},
   "source": [
    "## 10. How many runs have been scored by each batsman-bowler pair?"
   ]
  },
  {
   "cell_type": "code",
   "execution_count": 120,
   "id": "413fbac3-34a9-4bf7-bfe1-9086b2e0b923",
   "metadata": {},
   "outputs": [
    {
     "name": "stdout",
     "output_type": "stream",
     "text": [
      "Runs scored by each batsman-bowler pair:\n",
      " batsman         bowler         \n",
      "A Ashish Reddy  A Nehra             7\n",
      "                AB Dinda            9\n",
      "                AD Mathews         25\n",
      "                AD Russell          4\n",
      "                Anureet Singh       2\n",
      "                                   ..\n",
      "Z Khan          SR Watson           3\n",
      "                Shakib Al Hasan     3\n",
      "                Sohail Tanvir       3\n",
      "                VRV Singh           0\n",
      "                YK Pathan           1\n",
      "Name: batsman_runs, Length: 17151, dtype: int64\n"
     ]
    }
   ],
   "source": [
    "runs_by_batsman_bowler_pair = df.groupby(['batsman', 'bowler'])['batsman_runs'].sum()\n",
    "print(\"Runs scored by each batsman-bowler pair:\\n\", runs_by_batsman_bowler_pair)"
   ]
  },
  {
   "cell_type": "markdown",
   "id": "b740938f-8b7f-4939-a4bc-a9f86f613eeb",
   "metadata": {},
   "source": [
    "## 11. What is the most common dismissal kind?"
   ]
  },
  {
   "cell_type": "code",
   "execution_count": 121,
   "id": "ff7384e0-f3fc-4e56-8c53-ebb76f342e27",
   "metadata": {},
   "outputs": [
    {
     "name": "stdout",
     "output_type": "stream",
     "text": [
      "Most common dismissal kind: caught\n"
     ]
    }
   ],
   "source": [
    "most_common_dismissal = df['dismissal_kind'].mode()[0]\n",
    "print(\"Most common dismissal kind:\", most_common_dismissal)"
   ]
  },
  {
   "cell_type": "markdown",
   "id": "aa960956-3baa-4061-b3d5-7fb7a4a28572",
   "metadata": {},
   "source": [
    "## 12. How many matches have been played by each batting team?"
   ]
  },
  {
   "cell_type": "code",
   "execution_count": 122,
   "id": "65d6451a-0d09-42fd-9ec9-4f6ee48b7dc9",
   "metadata": {},
   "outputs": [
    {
     "name": "stdout",
     "output_type": "stream",
     "text": [
      "Number of matches played by each batting team:\n",
      " batting_team\n",
      "Chennai Super Kings            131\n",
      "Deccan Chargers                 75\n",
      "Delhi Daredevils               147\n",
      "Gujarat Lions                   30\n",
      "Kings XI Punjab                148\n",
      "Kochi Tuskers Kerala            14\n",
      "Kolkata Knight Riders          148\n",
      "Mumbai Indians                 157\n",
      "Pune Warriors                   45\n",
      "Rajasthan Royals               117\n",
      "Rising Pune Supergiant          16\n",
      "Rising Pune Supergiants         14\n",
      "Royal Challengers Bangalore    152\n",
      "Sunrisers Hyderabad             76\n",
      "Name: match_id, dtype: int64\n"
     ]
    }
   ],
   "source": [
    "matches_by_team = df.groupby('batting_team')['match_id'].nunique()\n",
    "print(\"Number of matches played by each batting team:\\n\", matches_by_team)"
   ]
  },
  {
   "cell_type": "markdown",
   "id": "23c3bc02-f33c-46e7-a48d-6978ef64181f",
   "metadata": {},
   "source": [
    "## 13. What is the average number of runs scored in each over?"
   ]
  },
  {
   "cell_type": "code",
   "execution_count": 123,
   "id": "cd22b5ef-80a4-4a36-a0b4-a884f632af51",
   "metadata": {},
   "outputs": [
    {
     "name": "stdout",
     "output_type": "stream",
     "text": [
      "Average number of runs scored in each over:\n",
      " over\n",
      "1     0.955635\n",
      "2     1.121601\n",
      "3     1.242057\n",
      "4     1.291698\n",
      "5     1.298832\n",
      "6     1.321933\n",
      "7     1.074869\n",
      "8     1.149635\n",
      "9     1.189325\n",
      "10    1.170981\n",
      "11    1.233177\n",
      "12    1.269347\n",
      "13    1.275509\n",
      "14    1.313694\n",
      "15    1.373206\n",
      "16    1.418031\n",
      "17    1.495300\n",
      "18    1.561685\n",
      "19    1.600031\n",
      "20    1.707736\n",
      "Name: total_runs, dtype: float64\n"
     ]
    }
   ],
   "source": [
    "average_runs_per_over = df.groupby('over')['total_runs'].mean()\n",
    "print(\"Average number of runs scored in each over:\\n\", average_runs_per_over)"
   ]
  },
  {
   "cell_type": "markdown",
   "id": "ab1bfc83-b7fc-48ea-ba9d-c902de0b4d64",
   "metadata": {},
   "source": [
    "## 14. Which fielder has been involved in the most dismissals?"
   ]
  },
  {
   "cell_type": "code",
   "execution_count": 124,
   "id": "86f28753-535e-4e95-ab88-8e2699fb9756",
   "metadata": {},
   "outputs": [
    {
     "name": "stdout",
     "output_type": "stream",
     "text": [
      "Fielder involved in the most dismissals: KD Karthik\n"
     ]
    }
   ],
   "source": [
    "fielder_most_dismissals = df['fielder'].value_counts().idxmax()\n",
    "print(\"Fielder involved in the most dismissals:\", fielder_most_dismissals)"
   ]
  },
  {
   "cell_type": "markdown",
   "id": "838d55f8-f20f-4057-860f-9efae4b5e739",
   "metadata": {},
   "source": [
    "## 15. How does the number of runs scored vary with the over number?"
   ]
  },
  {
   "cell_type": "code",
   "execution_count": 127,
   "id": "682c41df-63a2-469d-a120-943f4835ef7b",
   "metadata": {},
   "outputs": [
    {
     "name": "stdout",
     "output_type": "stream",
     "text": [
      "Number of runs scored with the over number:\n",
      " over\n",
      "1      7733\n",
      "2      8993\n",
      "3      9852\n",
      "4     10207\n",
      "5     10227\n",
      "6     10397\n",
      "7      8413\n",
      "8      8966\n",
      "9      9247\n",
      "10     9047\n",
      "11     9456\n",
      "12     9694\n",
      "13     9713\n",
      "14     9900\n",
      "15    10240\n",
      "16    10397\n",
      "17    10817\n",
      "18    10899\n",
      "19    10469\n",
      "20     9647\n",
      "Name: total_runs, dtype: int64\n"
     ]
    }
   ],
   "source": [
    "runs_by_over = df.groupby('over')['total_runs'].sum()\n",
    "print(\"Number of runs scored with the over number:\\n\", runs_by_over)"
   ]
  },
  {
   "cell_type": "code",
   "execution_count": 126,
   "id": "42f024fb-a30d-43eb-9dcb-4e6787bb0275",
   "metadata": {},
   "outputs": [
    {
     "data": {
      "image/png": "[encoded data removed]",
      "text/plain": [
       "<Figure size 1000x600 with 1 Axes>"
      ]
     },
     "metadata": {},
     "output_type": "display_data"
    }
   ],
   "source": [
    "import seaborn as sns\n",
    "import matplotlib.pyplot as plt\n",
    "runs_per_over = df.groupby('over')['total_runs'].sum().reset_index()\n",
    "plt.figure(figsize=(10, 6))\n",
    "plt.plot(runs_per_over['over'], runs_per_over['total_runs'], marker='o', linestyle='-', color='b')\n",
    "plt.xlabel('Over')\n",
    "plt.ylabel('Total Runs')\n",
    "plt.title('Total Runs Scored per Over')\n",
    "plt.grid(True)\n",
    "plt.xticks(runs_per_over['over'])\n",
    "plt.show()"
   ]
  },
  {
   "cell_type": "markdown",
   "id": "42f72a43-186b-435f-a0cc-f37dd1ae0d53",
   "metadata": {},
   "source": [
    "## 16. how is the relationship between the number of runs scored and the number of extras conceded?"
   ]
  },
  {
   "cell_type": "code",
   "execution_count": 128,
   "id": "57c52c6e-f33e-4a49-aee7-e7a7a383a7c5",
   "metadata": {},
   "outputs": [
    {
     "name": "stdout",
     "output_type": "stream",
     "text": [
      "Correlation between runs scored and extras conceded: 0.0780851937510607\n"
     ]
    }
   ],
   "source": [
    "correlation_runs_extras = df[['total_runs', 'extra_runs']].corr().iloc[0, 1]\n",
    "print(\"Correlation between runs scored and extras conceded:\", correlation_runs_extras)"
   ]
  },
  {
   "cell_type": "code",
   "execution_count": 83,
   "id": "d52f51f4-33e1-4afc-b17f-a4e28c1b2e27",
   "metadata": {},
   "outputs": [
    {
     "data": {
      "text/plain": [
       "<Axes: xlabel='total_runs', ylabel='extra_runs'>"
      ]
     },
     "execution_count": 83,
     "metadata": {},
     "output_type": "execute_result"
    },
    {
     "data": {
      "image/png": "[encoded data removed]",
      "text/plain": [
       "<Figure size 640x480 with 1 Axes>"
      ]
     },
     "metadata": {},
     "output_type": "display_data"
    }
   ],
   "source": [
    "import seaborn as sns \n",
    "sns.scatterplot(data=df , x='total_runs' , y='extra_runs') \n"
   ]
  },
  {
   "cell_type": "markdown",
   "id": "8e87087c-0a8d-4d1c-9b0c-24e5781ed5be",
   "metadata": {},
   "source": [
    "## 17. Are there any notable trends in the distribution of runs scored by batting teams across innings?"
   ]
  },
  {
   "cell_type": "code",
   "execution_count": 129,
   "id": "18136cae-f59a-4f93-b5d0-1d1cb88d6c69",
   "metadata": {},
   "outputs": [
    {
     "data": {
      "image/png": "[encoded data removed]",
      "text/plain": [
       "<Figure size 640x480 with 1 Axes>"
      ]
     },
     "metadata": {},
     "output_type": "display_data"
    }
   ],
   "source": [
    "import matplotlib.pyplot as plt\n",
    "\n",
    "runs_distribution_by_inning = df.groupby(['batting_team', 'inning'])['total_runs'].sum().unstack()\n",
    "runs_distribution_by_inning.plot(kind='bar', stacked=True, title='Runs Distribution by Batting Teams Across Innings')\n",
    "plt.show()"
   ]
  },
  {
   "cell_type": "markdown",
   "id": "c0950110-dd13-47cc-bd6f-46aae989b48e",
   "metadata": {},
   "source": [
    "## 18. Which batting team has the highest average runs per match?"
   ]
  },
  {
   "cell_type": "code",
   "execution_count": 130,
   "id": "e4d1d329-3c98-4290-98ad-fa8d2b8c5d58",
   "metadata": {},
   "outputs": [
    {
     "name": "stdout",
     "output_type": "stream",
     "text": [
      "Batting team with the highest average runs per match: Gujarat Lions\n"
     ]
    }
   ],
   "source": [
    "average_runs_per_match = df.groupby('batting_team')['total_runs'].sum() / df.groupby('batting_team')['match_id'].nunique()\n",
    "team_highest_avg_runs = average_runs_per_match.idxmax()\n",
    "print(\"Batting team with the highest average runs per match:\", team_highest_avg_runs)"
   ]
  },
  {
   "cell_type": "markdown",
   "id": "dc80e5d4-65da-4f8f-ac8f-0e13d6566a73",
   "metadata": {},
   "source": [
    "## 19. What is the total runs scored by each batsman?"
   ]
  },
  {
   "cell_type": "code",
   "execution_count": 131,
   "id": "b20dc5ed-fba8-48a5-856c-c8385142bc34",
   "metadata": {},
   "outputs": [
    {
     "name": "stdout",
     "output_type": "stream",
     "text": [
      "Total runs scored by each batsman:\n",
      " batsman\n",
      "A Ashish Reddy     280\n",
      "A Chandila           4\n",
      "A Chopra            53\n",
      "A Choudhary         25\n",
      "A Flintoff          62\n",
      "                  ... \n",
      "YV Takawale        192\n",
      "Yashpal Singh       47\n",
      "Younis Khan          3\n",
      "Yuvraj Singh      2591\n",
      "Z Khan             117\n",
      "Name: batsman_runs, Length: 461, dtype: int64\n"
     ]
    }
   ],
   "source": [
    "total_runs_by_batsman = df.groupby('batsman')['batsman_runs'].sum()\n",
    "print(\"Total runs scored by each batsman:\\n\", total_runs_by_batsman)"
   ]
  },
  {
   "cell_type": "markdown",
   "id": "8b51e803-80d6-4762-9948-a5043d39f92e",
   "metadata": {},
   "source": [
    "## 20. How does the average number of runs scored per inning vary across different bowling teams?"
   ]
  },
  {
   "cell_type": "code",
   "execution_count": 133,
   "id": "14a1b597-9a44-4c0e-bbed-930d30f058a0",
   "metadata": {},
   "outputs": [
    {
     "name": "stdout",
     "output_type": "stream",
     "text": [
      "Average number of runs scored per inning across different bowling teams:\n",
      " bowling_team\n",
      "Chennai Super Kings            149.924242\n",
      "Deccan Chargers                154.906667\n",
      "Delhi Daredevils               151.993197\n",
      "Gujarat Lions                  164.193548\n",
      "Kings XI Punjab                155.133333\n",
      "Kochi Tuskers Kerala           141.857143\n",
      "Kolkata Knight Riders          146.900000\n",
      "Mumbai Indians                 150.854430\n",
      "Pune Warriors                  149.065217\n",
      "Rajasthan Royals               147.553719\n",
      "Rising Pune Supergiant         152.250000\n",
      "Rising Pune Supergiants        150.928571\n",
      "Royal Challengers Bangalore    154.392157\n",
      "Sunrisers Hyderabad            148.896104\n",
      "Name: total_runs, dtype: float64\n"
     ]
    }
   ],
   "source": [
    "average_runs_against_team = df.groupby(['bowling_team', 'match_id', 'inning'])['total_runs'].sum().groupby('bowling_team').mean()\n",
    "print(\"Average number of runs scored per inning across different bowling teams:\\n\", average_runs_against_team)"
   ]
  },
  {
   "cell_type": "markdown",
   "id": "9811676f-c78e-4cc2-b106-4550f8dae0aa",
   "metadata": {},
   "source": [
    "## 21. how is the relationship between the number of wides and the number of no balls bowled?"
   ]
  },
  {
   "cell_type": "code",
   "execution_count": 134,
   "id": "83d359b3-0dc6-4ca7-96cf-5e5b90f920e1",
   "metadata": {},
   "outputs": [
    {
     "name": "stdout",
     "output_type": "stream",
     "text": [
      "Correlation between wides and no balls bowled: -0.008702741691253043\n"
     ]
    }
   ],
   "source": [
    "correlation_wides_noballs = df[['wide_runs', 'noball_runs']].corr().iloc[0, 1]\n",
    "print(\"Correlation between wides and no balls bowled:\", correlation_wides_noballs)"
   ]
  },
  {
   "cell_type": "code",
   "execution_count": 89,
   "id": "6177e70d-80b0-468d-a4ca-4129f72e14db",
   "metadata": {},
   "outputs": [
    {
     "data": {
      "text/plain": [
       "<Axes: xlabel='noball_runs', ylabel='wide_runs'>"
      ]
     },
     "execution_count": 89,
     "metadata": {},
     "output_type": "execute_result"
    },
    {
     "data": {
      "image/png": "[encoded data removed]",
      "text/plain": [
       "<Figure size 640x480 with 1 Axes>"
      ]
     },
     "metadata": {},
     "output_type": "display_data"
    }
   ],
   "source": [
    "sns.scatterplot(data=df , x='noball_runs', y='wide_runs') "
   ]
  },
  {
   "cell_type": "markdown",
   "id": "f0be86fc-3b37-4f86-b743-8ebb605a1267",
   "metadata": {},
   "source": [
    "## 22. Which batting team has the highest number of centuries?"
   ]
  },
  {
   "cell_type": "code",
   "execution_count": 138,
   "id": "85bd4f36-c8db-45c0-818a-8017d3618b5b",
   "metadata": {},
   "outputs": [
    {
     "data": {
      "text/plain": [
       "batting_team\n",
       "Chennai Super Kings    20899\n",
       "Name: total_runs, dtype: int64"
      ]
     },
     "execution_count": 138,
     "metadata": {},
     "output_type": "execute_result"
    }
   ],
   "source": [
    "df1=df.groupby('batting_team')['total_runs'].sum()\n",
    "df1=df1[df1>=100]\n",
    "df1.groupby('batting_team').sum().head(1) "
   ]
  },
  {
   "cell_type": "markdown",
   "id": "515d7633-3af2-49ab-b307-1702ea53fd8f",
   "metadata": {},
   "source": [
    "## 23. How does the number of wides vary with the over number?"
   ]
  },
  {
   "cell_type": "code",
   "execution_count": 142,
   "id": "4901cb0a-6a58-4c75-bddc-e1b939ac931f",
   "metadata": {},
   "outputs": [
    {
     "name": "stdout",
     "output_type": "stream",
     "text": [
      "Number of wides with the over number:\n",
      " over\n",
      "1     481\n",
      "2     442\n",
      "3     359\n",
      "4     295\n",
      "5     279\n",
      "6     307\n",
      "7     330\n",
      "8     261\n",
      "9     255\n",
      "10    227\n",
      "11    182\n",
      "12    220\n",
      "13    241\n",
      "14    224\n",
      "15    248\n",
      "16    254\n",
      "17    264\n",
      "18    271\n",
      "19    264\n",
      "20    238\n",
      "Name: wide_runs, dtype: int64\n"
     ]
    }
   ],
   "source": [
    "wides_by_over = df.groupby('over')['wide_runs'].sum()\n",
    "print(\"Number of wides with the over number:\\n\", wides_by_over)"
   ]
  },
  {
   "cell_type": "markdown",
   "id": "2d49add9-ea68-4917-9da8-24be5c8c4401",
   "metadata": {},
   "source": [
    "## 24. What is the average number of runs scored per inning in matches with a super over ?"
   ]
  },
  {
   "cell_type": "code",
   "execution_count": 143,
   "id": "a8dab4a2-3738-4950-80fc-4dcac4b26ba7",
   "metadata": {},
   "outputs": [
    {
     "name": "stdout",
     "output_type": "stream",
     "text": [
      "Average number of runs scored per inning in matches with a super over: 12.357142857142858\n"
     ]
    }
   ],
   "source": [
    "average_runs_super_over = df[df['is_super_over'] == 1].groupby(['match_id', 'inning'])['total_runs'].sum().mean()\n",
    "print(\"Average number of runs scored per inning in matches with a super over:\", average_runs_super_over)"
   ]
  },
  {
   "cell_type": "markdown",
   "id": "51011d07-d6cc-4bcf-943c-84f28becfe73",
   "metadata": {},
   "source": [
    "## 25. How does the number of extras vary with the over number?"
   ]
  },
  {
   "cell_type": "code",
   "execution_count": 146,
   "id": "1419c3d8-dcb3-49cc-b6a1-ee971fe53b09",
   "metadata": {},
   "outputs": [
    {
     "name": "stdout",
     "output_type": "stream",
     "text": [
      "Number of extras with the over number:\n",
      " over\n",
      "1     768\n",
      "2     730\n",
      "3     629\n",
      "4     562\n",
      "5     495\n",
      "6     582\n",
      "7     553\n",
      "8     465\n",
      "9     459\n",
      "10    437\n",
      "11    379\n",
      "12    395\n",
      "13    451\n",
      "14    426\n",
      "15    425\n",
      "16    458\n",
      "17    548\n",
      "18    531\n",
      "19    527\n",
      "20    565\n",
      "Name: extra_runs, dtype: int64\n"
     ]
    }
   ],
   "source": [
    "extras_by_over = df.groupby('over')['extra_runs'].sum()\n",
    "print(\"Number of extras with the over number:\\n\", extras_by_over)"
   ]
  },
  {
   "cell_type": "code",
   "execution_count": 56,
   "id": "023f49ba-b493-4194-a462-d80694e516dd",
   "metadata": {},
   "outputs": [
    {
     "data": {
      "image/png": "[encoded data removed]",
      "text/plain": [
       "<Figure size 640x480 with 1 Axes>"
      ]
     },
     "metadata": {},
     "output_type": "display_data"
    }
   ],
   "source": [
    "extras_numbers = df.groupby('over')['extra_runs'].sum().reset_index()\n",
    "plt.plot(extras_numbers['over'], extras_numbers['extra_runs'], marker='o')\n",
    "plt.xlabel('Over Number')\n",
    "plt.ylabel('Total Extras')\n",
    "plt.title('Total Extras by Over Number')\n",
    "plt.grid(True)\n",
    "plt.show()"
   ]
  },
  {
   "cell_type": "markdown",
   "id": "fe988482-4a40-4e7c-9c60-039f5248dd11",
   "metadata": {},
   "source": [
    "## 26. Which bowler has the highest economy rate?"
   ]
  },
  {
   "cell_type": "code",
   "execution_count": 147,
   "id": "bc9452e0-3801-4c7e-aba9-8f26ecccd9a0",
   "metadata": {},
   "outputs": [
    {
     "name": "stdout",
     "output_type": "stream",
     "text": [
      "Bowler with the highest economy rate: bowler\n",
      "PP Chawla    174.473684\n",
      "dtype: float64\n"
     ]
    }
   ],
   "source": [
    "total_runs_conceded_by_bowler = df.groupby('bowler')['total_runs'].sum()\n",
    "total_overs_bowled_by_bowler = df.groupby('bowler')['over'].nunique()\n",
    "economy_rate_by_bowler = total_runs_conceded_by_bowler / total_overs_bowled_by_bowler\n",
    "highest_economy_bowler = economy_rate_by_bowler.sort_values(ascending=False).head(1)\n",
    "print(\"Bowler with the highest economy rate:\", highest_economy_bowler)"
   ]
  },
  {
   "cell_type": "markdown",
   "id": "8382eab4-eb52-4ce2-9d65-5b8a8cc2a604",
   "metadata": {},
   "source": [
    "## 27. How does the number of dismissals vary across different dismissal kinds?"
   ]
  },
  {
   "cell_type": "code",
   "execution_count": 148,
   "id": "034d2cdb-7acd-4716-8f58-7b77483ff890",
   "metadata": {},
   "outputs": [
    {
     "name": "stdout",
     "output_type": "stream",
     "text": [
      "Number of dismissals by different dismissal kinds:\n",
      " dismissal_kind\n",
      "caught                   4373\n",
      "bowled                   1382\n",
      "run out                   755\n",
      "lbw                       455\n",
      "stumped                   243\n",
      "caught and bowled         211\n",
      "retired hurt                9\n",
      "hit wicket                  9\n",
      "obstructing the field       1\n",
      "Name: count, dtype: int64\n"
     ]
    }
   ],
   "source": [
    "dismissals_by_kind = df['dismissal_kind'].value_counts()\n",
    "print(\"Number of dismissals by different dismissal kinds:\\n\", dismissals_by_kind)"
   ]
  },
  {
   "cell_type": "markdown",
   "id": "62173948-3d07-43e2-8f17-38dd286235af",
   "metadata": {},
   "source": [
    "## 28. What is the distribution of runs scored by each batting team in super overs"
   ]
  },
  {
   "cell_type": "code",
   "execution_count": 149,
   "id": "6eb7f3c6-38d6-40a8-a5f8-642001f3307c",
   "metadata": {},
   "outputs": [
    {
     "name": "stdout",
     "output_type": "stream",
     "text": [
      "Distribution of runs scored by each batting team in super overs:\n",
      " batting_team\n",
      "Chennai Super Kings             9\n",
      "Delhi Daredevils               11\n",
      "Gujarat Lions                   6\n",
      "Kings XI Punjab                25\n",
      "Kolkata Knight Riders          26\n",
      "Mumbai Indians                 11\n",
      "Rajasthan Royals               35\n",
      "Royal Challengers Bangalore    30\n",
      "Sunrisers Hyderabad            20\n",
      "Name: total_runs, dtype: int64\n"
     ]
    }
   ],
   "source": [
    "runs_super_over_by_team = df[df['is_super_over'] == 1].groupby('batting_team')['total_runs'].sum()\n",
    "print(\"Distribution of runs scored by each batting team in super overs:\\n\", runs_super_over_by_team)"
   ]
  },
  {
   "cell_type": "code",
   "execution_count": null,
   "id": "d10a5f04-bce0-4ce4-a567-c132a23f9eb6",
   "metadata": {},
   "outputs": [],
   "source": []
  }
 ],
 "metadata": {
  "kernelspec": {
   "display_name": "Python 3 (ipykernel)",
   "language": "python",
   "name": "python3"
  },
  "language_info": {
   "codemirror_mode": {
    "name": "ipython",
    "version": 3
   },
   "file_extension": ".py",
   "mimetype": "text/x-python",
   "name": "python",
   "nbconvert_exporter": "python",
   "pygments_lexer": "ipython3",
   "version": "3.11.7"
  }
 },
 "nbformat": 4,
 "nbformat_minor": 5
}
